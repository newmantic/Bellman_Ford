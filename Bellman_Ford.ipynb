{
  "nbformat": 4,
  "nbformat_minor": 0,
  "metadata": {
    "colab": {
      "provenance": [],
      "authorship_tag": "ABX9TyPpYAvnYdB99ZzV8PeUpMNy",
      "include_colab_link": true
    },
    "kernelspec": {
      "name": "python3",
      "display_name": "Python 3"
    },
    "language_info": {
      "name": "python"
    }
  },
  "cells": [
    {
      "cell_type": "markdown",
      "metadata": {
        "id": "view-in-github",
        "colab_type": "text"
      },
      "source": [
        "<a href=\"https://colab.research.google.com/github/newmantic/Bellman_Ford/blob/main/Bellman_Ford.ipynb\" target=\"_parent\"><img src=\"https://colab.research.google.com/assets/colab-badge.svg\" alt=\"Open In Colab\"/></a>"
      ]
    },
    {
      "cell_type": "code",
      "execution_count": 2,
      "metadata": {
        "id": "WR3KBxiK9LdA"
      },
      "outputs": [],
      "source": [
        "class Graph:\n",
        "    def __init__(self, vertices):\n",
        "        self.V = vertices  # Number of vertices\n",
        "        self.edges = []    # List to store edges (u, v, weight)\n",
        "\n",
        "    def add_edge(self, u, v, weight):\n",
        "        self.edges.append((u, v, weight))  # Add an edge to the edge list\n",
        "\n",
        "    def bellman_ford(self, src):\n",
        "        # Initialize distances from src to all vertices as infinite\n",
        "        distances = [float('inf')] * self.V\n",
        "        distances[src] = 0  # Distance from source to itself is always 0\n",
        "\n",
        "        # Relax all edges |V| - 1 times\n",
        "        for _ in range(self.V - 1):\n",
        "            for u, v, weight in self.edges:\n",
        "                if distances[u] != float('inf') and distances[u] + weight < distances[v]:\n",
        "                    distances[v] = distances[u] + weight\n",
        "\n",
        "        # Check for negative-weight cycles\n",
        "        for u, v, weight in self.edges:\n",
        "            if distances[u] != float('inf') and distances[u] + weight < distances[v]:\n",
        "                raise ValueError(\"Graph contains a negative-weight cycle\")\n",
        "\n",
        "        return distances\n"
      ]
    },
    {
      "cell_type": "code",
      "source": [
        "# Example test cases\n",
        "def test_bellman_ford():\n",
        "    g = Graph(5)\n",
        "\n",
        "    # Add edges (u, v, weight)\n",
        "    g.add_edge(0, 1, -1)\n",
        "    g.add_edge(0, 2, 4)\n",
        "    g.add_edge(1, 2, 3)\n",
        "    g.add_edge(1, 3, 2)\n",
        "    g.add_edge(1, 4, 2)\n",
        "    g.add_edge(3, 2, 5)\n",
        "    g.add_edge(3, 1, 1)\n",
        "    g.add_edge(4, 3, -3)\n",
        "\n",
        "    # Run Bellman-Ford algorithm\n",
        "    distances = g.bellman_ford(0)\n",
        "\n",
        "    print(\"Vertex Distance from Source\")\n",
        "    for i in range(len(distances)):\n",
        "        print(f\"{i}\\t\\t{distances[i]}\")\n",
        "\n",
        "# Advanced Test Cases\n",
        "def additional_tests():\n",
        "    # Test Case 1: Basic graph with positive weights\n",
        "    g1 = Graph(3)\n",
        "    g1.add_edge(0, 1, 1)\n",
        "    g1.add_edge(1, 2, 2)\n",
        "    g1.add_edge(0, 2, 4)\n",
        "    print(\"Test Case 1 (Basic Positive Weights):\")\n",
        "    print(g1.bellman_ford(0))  # Expected output: [0, 1, 3]\n",
        "\n",
        "    # Test Case 2: Graph with negative weights but no negative cycle\n",
        "    g2 = Graph(4)\n",
        "    g2.add_edge(0, 1, -1)\n",
        "    g2.add_edge(0, 2, 4)\n",
        "    g2.add_edge(1, 2, 3)\n",
        "    g2.add_edge(1, 3, 2)\n",
        "    g2.add_edge(2, 3, 5)\n",
        "    g2.add_edge(3, 1, -2)\n",
        "    print(\"Test Case 2 (Negative Weights):\")\n",
        "    print(g2.bellman_ford(0))  # Expected output: [0, -1, 2, 0]\n",
        "\n",
        "    # Test Case 3: Graph with a negative cycle\n",
        "    g3 = Graph(3)\n",
        "    g3.add_edge(0, 1, 1)\n",
        "    g3.add_edge(1, 2, -1)\n",
        "    g3.add_edge(2, 0, -1)\n",
        "    try:\n",
        "        print(\"Test Case 3 (Negative Cycle):\")\n",
        "        g3.bellman_ford(0)  # Should raise an error\n",
        "    except ValueError as e:\n",
        "        print(e)\n",
        "\n",
        "# Run the tests\n",
        "test_bellman_ford()\n",
        "additional_tests()"
      ],
      "metadata": {
        "colab": {
          "base_uri": "https://localhost:8080/"
        },
        "id": "anSRL5kO9ePu",
        "outputId": "7ead8b67-3194-4272-f0f2-c4547661541d"
      },
      "execution_count": 3,
      "outputs": [
        {
          "output_type": "stream",
          "name": "stdout",
          "text": [
            "Vertex Distance from Source\n",
            "0\t\t0\n",
            "1\t\t-1\n",
            "2\t\t2\n",
            "3\t\t-2\n",
            "4\t\t1\n",
            "Test Case 1 (Basic Positive Weights):\n",
            "[0, 1, 3]\n",
            "Test Case 2 (Negative Weights):\n",
            "[0, -1, 2, 1]\n",
            "Test Case 3 (Negative Cycle):\n",
            "Graph contains a negative-weight cycle\n"
          ]
        }
      ]
    }
  ]
}